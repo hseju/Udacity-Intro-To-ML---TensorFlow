{
 "cells": [
  {
   "cell_type": "markdown",
   "id": "ad99cb3e",
   "metadata": {},
   "source": [
    "# Naive Bayes (Bayesian Algorithm)\n",
    "\n",
    "Naive Bayes algorithm is on one of the supervised learning techniques used for classification types of problems. The core of this algorithm is the probabilistic model which calculates the probabilities of input features and outputs the probalities distributions to each possible class.This algorithm is used for Natural Language processing(NLP) types of application.\n",
    "\n",
    "\n",
    "### Bayes Theorem\n",
    "\n",
    "The main concept of the Bayes theorem is based on what probabilites we know and what we can infer from it. In this model, there are two probablities, prior and posterior. Prior is the probility of a given event to occur, say what is the probability of **Virat Kohli** or **Rohit Sharma** to be the Captain. Posterior is the probility of a given event to occur given a conditon, say what is the probability of Inida to win **given** Virat Kohli is the Captain. That's it, that's the Bayes Theorem. \n",
    "\n",
    "![infer](infer.png)\n",
    "\n",
    "\n",
    "![captain](captain.png)"
   ]
  },
  {
   "cell_type": "markdown",
   "id": "971ebc36",
   "metadata": {},
   "source": [
    "## Naive Bayes Algorithm\n",
    "\n",
    "The algorithm is based on the condition that two events for which we calculate the probablity should be different. So in P(A $\\cap$ B) , event A and event B should be independent of each other. This is the naive assumption that we make for this algorithm. \n",
    "\n",
    "P(A $\\cap$ B) = P(A) . P(B)"
   ]
  },
  {
   "cell_type": "markdown",
   "id": "7cb6e65d",
   "metadata": {},
   "source": [
    "### Problem Statement 1:\n",
    "\n",
    "Suppose you have a bag with three standard 6-sided dice with face values [1,2,3,4,5,6] and two non-standard 6-sided dice with face values [2,3,3,4,4,5]. Someone draws a die from the bag, rolls it, and announces it was a 3. What is the probability that the die that was rolled was a standard die?\n",
    "\n",
    "Input your answer as a fraction or as a decimal with at least three digits of precision.\n"
   ]
  },
  {
   "cell_type": "code",
   "execution_count": 12,
   "id": "237ad5b3",
   "metadata": {},
   "outputs": [
    {
     "name": "stdout",
     "output_type": "stream",
     "text": [
      "Probability of picking a standard dice is 0.6 and Probability of picking a non-standard dice is 0.4\n",
      "After rolling the dice the number was 3\n",
      "Probability of having number 3 given its a std die: 0.100 \n",
      "Probability of having number 3 given its a non std die: 0.133\n",
      "Probablity having a std die given that the rolled dice is having number 3: 0.429\n"
     ]
    }
   ],
   "source": [
    "std_dice = 3\n",
    "non_std_dice =2\n",
    "P_A = std_dice / (std_dice+non_std_dice)\n",
    "P_B = non_std_dice / (std_dice+non_std_dice)\n",
    "print(\"Probability of picking a standard dice is {} and Probability of picking a non-standard dice is {}\".format(P_A, P_B) )\n",
    "\n",
    "print(\"After rolling the dice the number was 3\")\n",
    "\n",
    "P_3_A = 1/6 * P_A\n",
    "P_3_B = 2/6 * P_B\n",
    "\n",
    "print(\"Probability of having number 3 given its a std die: {:0.3f} \\nProbability of having number 3 given its a non std die: {:0.3f}\".format(P_3_A,P_3_B))\n",
    "#Normalizing to return the probability of die that was rolled was a standard die\n",
    "P_A_3 = P_3_A/(P_3_A+P_3_B)\n",
    "print(\"Probablity having a std die given that the rolled dice is having number 3: {:0.3f}\".format(P_A_3))"
   ]
  },
  {
   "cell_type": "markdown",
   "id": "3a34939a",
   "metadata": {},
   "source": [
    "### Spam Classifier Modeling:\n",
    "\n",
    "The modeling of spam classifier is done using the Naive Bayes algorithm and is carried out in a differnt workspace notebook. Refer to the github link given below to see the notebook here: "
   ]
  }
 ],
 "metadata": {
  "kernelspec": {
   "display_name": "Python 3 (ipykernel)",
   "language": "python",
   "name": "python3"
  },
  "language_info": {
   "codemirror_mode": {
    "name": "ipython",
    "version": 3
   },
   "file_extension": ".py",
   "mimetype": "text/x-python",
   "name": "python",
   "nbconvert_exporter": "python",
   "pygments_lexer": "ipython3",
   "version": "3.9.7"
  }
 },
 "nbformat": 4,
 "nbformat_minor": 5
}
