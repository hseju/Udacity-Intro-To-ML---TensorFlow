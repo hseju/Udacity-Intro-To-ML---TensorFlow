{
 "cells": [
  {
   "cell_type": "markdown",
   "id": "86b756c5",
   "metadata": {},
   "source": [
    "# Perceptron Algorithm\n",
    "\n",
    "Perceptron algorithm is one of the technique to solve classification type machine learning model. Classification method is one of Supervised machine learning method which provides or rather classifies the answer in one or the other category. \n",
    "\n",
    "Let's take an example about a student's acceptance in an University. His/her acceptance depends on the two parameters namely, Test score and overall grades. From the image below, it is easy to determine a Student's acceptance for top two Students based on test score and grades. However, it is unclear or not classfied for the third Student of whether or not he/she will accepted. Here's where perceptron algorithm comes as a tool to make classfication easy.\n",
    "\n",
    "![Student_grade](Student_grade.png)\n",
    "\n",
    "\n",
    "\n",
    "Let's try to put this into deeper perspective by plotting test scores and grades. This plotting comes from the previous data gathered for the students who got accepted and rejected. See, again, data is so Important! And our predictions in machine learning are based on huge collection of data. \n",
    "\n",
    "Now, it can be seen from the plot that third Student's test score and grades fall in a classfication zone of accepted students, which means that the third student is also accepted into the university. We can confidently say that the classifier line divides the data safely to categorize acceptance and rejection. But the question is how do we determine this line?\n",
    "\n",
    "\n",
    "![qz1](qz1.png)\n",
    "\n",
    "\n",
    "\n",
    "This boundary line can be represented by a linear equation of line, and assuming that horizontal variables are x1 and vertical variables are x2, the eqaution of line for above case will be $2x1 + x2 - 18 = 0$. More general form of this equation can be written as $w1x1 + w2x2 + b =0$. In vectorized form this can be written as $Wx + b = 0$. If $Wx + b>=0$, the prediction can be said to be in \"Yes\" category, in above case \"accepcted\" category and if $Wx + b<0$, the prediction can be said to be in \"No\" category, in above case \"rejected\" category.\n",
    "\n",
    "In higher dimensions, the equation can be written as $w1x1 + w2x2 + .... + wnxn +b = 0$. Let's say if we have three different variables, namley Test score, Grades, Class Rank, now in our example of Student Acceptance, our equation will be written in higher dimenions as:\n",
    "\n",
    "![Perceptron_Higher](Perceptron_Higher.png)"
   ]
  },
  {
   "cell_type": "markdown",
   "id": "c7c5fefd",
   "metadata": {},
   "source": [
    "![trons](trons.png)"
   ]
  },
  {
   "cell_type": "markdown",
   "id": "c6dac2e0",
   "metadata": {},
   "source": [
    "### Perceptrons And Logical Operators\n",
    "\n",
    "One of the great application of perceptron is using them as Logical operators. These logical operators will classify the output/predictive variable based on the input variables. Why not we see that as an example!?\n",
    "\n",
    "### AND Perceptron\n",
    "\n",
    "![And](And.png)\n",
    "\n",
    "\n",
    "\n",
    "### Problem Statement 1:\n",
    "\n",
    "Set the weights (weight1, weight2) and bias (bias) to values that will correctly determine the AND operation as shown above. More than one set of values will work!"
   ]
  },
  {
   "cell_type": "code",
   "execution_count": 221,
   "id": "44a3d8e1",
   "metadata": {},
   "outputs": [
    {
     "name": "stdout",
     "output_type": "stream",
     "text": [
      "Nice!  You got it all correct.\n",
      "\n",
      " Input 1    Input 2    Linear Combination    Activation Output   Is Correct\n",
      "       0          0                  -0.5                    0          Yes\n",
      "       0          1                  -0.3                    0          Yes\n",
      "       1          0                  -0.2                    0          Yes\n",
      "       1          1                   0.0                    1          Yes\n"
     ]
    }
   ],
   "source": [
    "import pandas as pd\n",
    "\n",
    "# TODO: Set weight1, weight2, and bias\n",
    "weight1 = 0.3\n",
    "weight2 = 0.2\n",
    "bias = -0.5\n",
    "\n",
    "\n",
    "# DON'T CHANGE ANYTHING BELOW\n",
    "# Inputs and outputs\n",
    "test_inputs = [(0, 0), (0, 1), (1, 0), (1, 1)]\n",
    "correct_outputs = [False, False, False, True]\n",
    "outputs = []\n",
    "\n",
    "# Generate and check output\n",
    "for test_input, correct_output in zip(test_inputs, correct_outputs):\n",
    "    linear_combination = weight1 * test_input[0] + weight2 * test_input[1] + bias\n",
    "    output = int(linear_combination >= 0)\n",
    "    is_correct_string = 'Yes' if output == correct_output else 'No'\n",
    "    outputs.append([test_input[0], test_input[1], linear_combination, output, is_correct_string])\n",
    "\n",
    "# Print output\n",
    "num_wrong = len([output[4] for output in outputs if output[4] == 'No'])\n",
    "output_frame = pd.DataFrame(outputs, columns=['Input 1', '  Input 2', '  Linear Combination', '  Activation Output', '  Is Correct'])\n",
    "if not num_wrong:\n",
    "    print('Nice!  You got it all correct.\\n')\n",
    "else:\n",
    "    print('You got {} wrong.  Keep trying!\\n'.format(num_wrong))\n",
    "print(output_frame.to_string(index=False))\n"
   ]
  },
  {
   "cell_type": "markdown",
   "id": "e948fad2",
   "metadata": {},
   "source": [
    "How these input values work with assumed weights and bias have been shown below:\n",
    "\n",
    "![AndEx](AndEx.png)\n",
    "\n",
    "\n",
    "### OR Perceptron\n",
    "\n",
    "The boundary line is moved down the co-ordinates having atleast one input value 1. There are two ways to go from AND perceptron to OR perceptron:\n",
    "\n",
    "1. By increasing weights\n",
    "2. By reducing the magnitude of bias\n",
    "\n",
    "![Or](Or.png)\n",
    "\n",
    "\n",
    "### NOT Perceptron\n",
    "\n",
    "### Problem Statement 2:\n",
    "\n",
    "Unlike the other perceptrons we looked at, the NOT operation only cares about one input. The operation returns a 0 if the input is 1 and a 1 if it's a 0. The other inputs to the perceptron are ignored.\n",
    "\n",
    "In this quiz, you'll set the weights (weight1, weight2) and bias bias to the values that calculate the NOT operation on the second input and ignores the first input.\n"
   ]
  },
  {
   "cell_type": "code",
   "execution_count": 222,
   "id": "8cdb6757",
   "metadata": {},
   "outputs": [
    {
     "name": "stdout",
     "output_type": "stream",
     "text": [
      "Nice!  You got it all correct.\n",
      "\n",
      " Input 1    Input 2    Linear Combination    Activation Output   Is Correct\n",
      "       0          0                  0.00                    1          Yes\n",
      "       0          1                 -2.00                    0          Yes\n",
      "       1          0                  1.75                    1          Yes\n",
      "       1          1                 -0.25                    0          Yes\n"
     ]
    }
   ],
   "source": [
    "import pandas as pd\n",
    "\n",
    "# TODO: Set weight1, weight2, and bias\n",
    "weight1 = 1.75\n",
    "weight2 = -2\n",
    "bias = -0\n",
    "\n",
    "\n",
    "# DON'T CHANGE ANYTHING BELOW\n",
    "# Inputs and outputs\n",
    "test_inputs = [(0, 0), (0, 1), (1, 0), (1, 1)]\n",
    "correct_outputs = [True, False, True, False]\n",
    "outputs = []\n",
    "\n",
    "# Generate and check output\n",
    "for test_input, correct_output in zip(test_inputs, correct_outputs):\n",
    "    linear_combination = weight1 * test_input[0] + weight2 * test_input[1] + bias\n",
    "    output = int(linear_combination >= 0)\n",
    "    is_correct_string = 'Yes' if output == correct_output else 'No'\n",
    "    outputs.append([test_input[0], test_input[1], linear_combination, output, is_correct_string])\n",
    "\n",
    "# Print output\n",
    "num_wrong = len([output[4] for output in outputs if output[4] == 'No'])\n",
    "output_frame = pd.DataFrame(outputs, columns=['Input 1', '  Input 2', '  Linear Combination', '  Activation Output', '  Is Correct'])\n",
    "if not num_wrong:\n",
    "    print('Nice!  You got it all correct.\\n')\n",
    "else:\n",
    "    print('You got {} wrong.  Keep trying!\\n'.format(num_wrong))\n",
    "print(output_frame.to_string(index=False))"
   ]
  },
  {
   "cell_type": "markdown",
   "id": "12eb15ef",
   "metadata": {},
   "source": [
    "### XOR Perceptron\n",
    "\n",
    "Last one is XOR perceptron, it gives true only when one of the input is exactly 1. \n",
    "\n",
    "![XOR](XOR.png)\n",
    "\n",
    "\n",
    "### Problem Statement 3:\n",
    "\n",
    "Now, let's build a multi-layer perceptron from the AND, NOT, and OR perceptrons to create XOR logic!\n",
    "\n",
    "The neural network below contains 3 perceptrons, A, B, and C. The last one (AND) has been given for you. The input to the neural network is from the first node. The output comes out of the last node.\n",
    "\n",
    "The multi-layer perceptron below calculates XOR. Each perceptron is a logic operation of AND, OR, and NOT. However, the perceptrons A, B, and C don't indicate their operation. In the following quiz, set the correct operations for the perceptrons to calculate XOR.\n",
    "\n",
    "![XorEx](XorEx.png)\n",
    "\n",
    "\n",
    "## Perceptron Trick\n",
    "\n",
    "As we have build up some fundamental and a complex multi layer perceptrons above, in reality they should be able to build themselves. So there is the idea of perceptron trick. At first when the line is created, it will divide the classified points inaccurately. However, our goal is to locate the line in the best position possible to correctly classify the points. Imagine a negative point located incorrectly in the positive area. That would want the line to move closer to it and ultimately surpass it to enter its correct negative zone. An example below demonstrates that,\n",
    "\n",
    "\n",
    "![PerTrick](PerTrick.png)\n",
    "\n",
    "\n",
    "### Problem Statement 3:\n",
    "\n",
    "\n",
    "![PerTrickEx](PerTrickEx.png)\n",
    "\n",
    "For the second example, where the line is described by 3x1+ 4x2 - 10 = 0, if the learning rate was set to 0.1, how many times would you have to apply the perceptron trick to move the line to a position where the blue point, at (1, 1), is correctly classified?\n",
    "\n"
   ]
  },
  {
   "cell_type": "code",
   "execution_count": 223,
   "id": "a083c174",
   "metadata": {},
   "outputs": [
    {
     "name": "stdout",
     "output_type": "stream",
     "text": [
      "Preceptron trick is applied 10 times to move the line where the point is correclty classified\n"
     ]
    }
   ],
   "source": [
    "#weights and bias values from original line\n",
    "w1, w2, b = 3, 4, -10\n",
    "α = 0.1  #learning rate\n",
    "\n",
    "p,q = 1,1 #point of interest (1,1) which is in negative zone so we check keep on adding the values till we get Wx+b >0\n",
    "\n",
    "def new_line(w1,w2,b,α,p,q):\n",
    "    new_w1 = w1 + p*α\n",
    "    new_w2 = w2 + q*α\n",
    "    new_b = b + 1*α\n",
    "    return new_w1, new_w2, new_b\n",
    "\n",
    "result = w1*p + w2*q + b\n",
    "count =0\n",
    "while(result<0):\n",
    "    w1,w2,b = new_line(w1,w2,b,α,p,q)\n",
    "    result = w1*p + w2*q + b\n",
    "    count += 1\n",
    "    \n",
    "print(\"Preceptron trick is applied {} times to move the line where the point is correclty classified\".format(count-1))"
   ]
  },
  {
   "cell_type": "markdown",
   "id": "51bfd60b",
   "metadata": {},
   "source": [
    "### Perceptron Algorithm\n",
    "\n",
    "Main algorithm can be applied in steps mentioned below. Remember, our main goal is to try to find the best locate the line such that it can correctly classify the points into their respective positive or negative zones.\n",
    "\n",
    "![Palgo](Palgo.png)\n",
    "\n",
    "\n",
    "### Problem Statement 4:\n",
    "\n",
    "In this quiz, you'll have the chance to implement the perceptron algorithm to separate the following data (given in the file data.csv).\n",
    "\n",
    "Recall that the perceptron step works as follows. For a point with coordinates (p,q)(p,q), label yy, and prediction given by the equation. $\\hat{y} = step(w1x1 + w2x2 + b):$\n",
    "\n",
    "1. If the point is correctly classified, do nothing.\n",
    "\n",
    "2. If the point is classified positive, but it has a negative label, subtract αp, αq, and α from w1, w2 and b respectively. \n",
    "\n",
    "3. If the point is classified negative, but it has a positive label, add αp, αq, and α to w1, w2 and b respectively.\n",
    "\n",
    "Then click on test run to graph the solution that the perceptron algorithm gives you. It'll actually draw a set of dotted lines, that show how the algorithm approaches to the best solution, given by the black solid line.\n",
    "\n",
    "Feel free to play with the parameters of the algorithm (number of epochs, learning rate, and even the randomizing of the initial parameters) to see how your initial conditions can affect the solution!"
   ]
  },
  {
   "cell_type": "code",
   "execution_count": 224,
   "id": "22d3569b",
   "metadata": {
    "scrolled": false
   },
   "outputs": [
    {
     "data": {
      "text/plain": [
       "<matplotlib.collections.PathCollection at 0x1ded17ef700>"
      ]
     },
     "execution_count": 224,
     "metadata": {},
     "output_type": "execute_result"
    },
    {
     "data": {
      "image/png": "[encoded data removed]",
      "text/plain": [
       "<Figure size 432x288 with 1 Axes>"
      ]
     },
     "metadata": {
      "needs_background": "light"
     },
     "output_type": "display_data"
    }
   ],
   "source": [
    "import numpy as np\n",
    "import matplotlib.pyplot as plt\n",
    "# Setting the random seed, feel free to change it and see different solutions.\n",
    "np.random.seed(42)\n",
    "\n",
    "df = pd.read_csv(r'C:\\Everything On This PC\\Udacity\\Intro to ML -TensorFlow\\Classification\\Perceptron_Algorithm\\Problem 4\\data.csv', header =None)\n",
    "X_pred = df.iloc[:,:2]\n",
    "X = X_pred.to_numpy()\n",
    "y = df.iloc[:,-1]\n",
    "\n",
    "\n",
    "def stepFunction(t):\n",
    "    if t >= 0:\n",
    "        return 1\n",
    "    return 0\n",
    "\n",
    "def prediction(X, W, b):\n",
    "    \n",
    "    fun = stepFunction((np.matmul(X,W)+b[0]))\n",
    "    return fun\n",
    "\n",
    "# TODO: Fill in the code below to implement the perceptron trick.\n",
    "# The function should receive as inputs the data X, the labels y,\n",
    "# the weights W (as an array), and the bias b,\n",
    "# update the weights and bias W, b, according to the perceptron algorithm,\n",
    "# and return W and b.\n",
    "\n",
    "\n",
    "def perceptronStep(X, y, W, b, learn_rate = 0.01):\n",
    "    # Fill in code\n",
    "    for i in range(len(X)):\n",
    "        \n",
    "        y_hat = prediction(X[i],W,b)\n",
    "       \n",
    "        if y[i]-y_hat == 1:\n",
    "            W[0] += X[i][0]*learn_rate\n",
    "            W[1] += X[i][1]*learn_rate\n",
    "            b += learn_rate\n",
    "        elif y[i]-y_hat == -1:\n",
    "            W[0] -= X[i][0]*learn_rate\n",
    "            W[1] -= X[i][1]*learn_rate\n",
    "            b -= learn_rate\n",
    "            \n",
    "    return W, b\n",
    "   \n",
    "# This function runs the perceptron algorithm repeatedly on the dataset,\n",
    "# and returns a few of the boundary lines obtained in the iterations,\n",
    "# for plotting purposes.\n",
    "# Feel free to play with the learning rate and the num_epochs,\n",
    "# and see your results plotted below.\n",
    "def trainPerceptronAlgorithm(X, y, learn_rate = 0.01, num_epochs = 25):\n",
    "    \n",
    "    x_min, x_max = min(X.T[0]), max(X.T[0])\n",
    "    y_min, y_max = min(X.T[1]), max(X.T[1])\n",
    "    \n",
    "    W = np.array(np.random.rand(2,1))\n",
    "    b = np.random.rand(1)[0] + x_max\n",
    "\n",
    "    # These are the solution lines that get plotted below.\n",
    "    \n",
    "    boundary_lines = []\n",
    "    for i in range(num_epochs):\n",
    "        # In each epoch, we apply the perceptron step.\n",
    "        \n",
    "        W, b = perceptronStep(X, y, W, b, learn_rate)\n",
    "        \n",
    "        boundary_lines.append((-W[0]/W[1], -b/W[1]))\n",
    "        \n",
    "    return boundary_lines\n",
    "\n",
    "\n",
    "#trainPerceptronAlgorithm(X, y, learn_rate = 0.01, num_epochs = 25)\n",
    "plt.scatter(X_pred[0],X_pred[1])\n",
    "\n",
    "\n"
   ]
  },
  {
   "cell_type": "markdown",
   "id": "a4a75159",
   "metadata": {},
   "source": [
    "![plot](plot.png)\n",
    "\n",
    "## Summary\n",
    "\n",
    "1. Perceptron algorithm used to solve Classification problems\n",
    "2. Perceptron algorithm as logical operators for deep learning\n",
    "3. Perceptron trick of how to divide the points according to their classification\n",
    "\n",
    "\n",
    "## Resources:\n",
    "\n",
    "Images and problem statement are courtesy of Udacity's Nanodegree program on Intro to ML- TensorFlow. \n",
    "https://www.udacity.com/course/intro-to-machine-learning-with-tensorflow-nanodegree--nd230"
   ]
  },
  {
   "cell_type": "code",
   "execution_count": null,
   "id": "39b7763b",
   "metadata": {},
   "outputs": [],
   "source": []
  }
 ],
 "metadata": {
  "kernelspec": {
   "display_name": "Python 3 (ipykernel)",
   "language": "python",
   "name": "python3"
  },
  "language_info": {
   "codemirror_mode": {
    "name": "ipython",
    "version": 3
   },
   "file_extension": ".py",
   "mimetype": "text/x-python",
   "name": "python",
   "nbconvert_exporter": "python",
   "pygments_lexer": "ipython3",
   "version": "3.9.7"
  }
 },
 "nbformat": 4,
 "nbformat_minor": 5
}
