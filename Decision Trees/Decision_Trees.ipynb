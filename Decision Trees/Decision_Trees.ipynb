{
 "cells": [
  {
   "cell_type": "markdown",
   "id": "e7469e76",
   "metadata": {},
   "source": [
    "# Decision Trees\n",
    "\n",
    "Decision trees model belongs to Supervised learning technique to solve either Regression or Classification type problems. As the name suggest, the process here is to narrow down the decision making process by creating branches and ultimately leaves to classify/predict output variable. The branch nodes represent the dataset features and leaves represent the outcomes. The model simply asks a question of Yes/No starting from the root node and depending on the answer it will either create a new branch or add to the existing branch. The process continues till the decision is reached and leaf nodes are created as outcomes, thus creating a tree like structure in a graphical representation. One thing to note here is, the more the number of predictor variables the more branches and bigger a tree.\n",
    "\n",
    "Consider an app recommender program/model. Assume we have a data of gender, occupation of few users and what apps they use.\n",
    "We can classify this based on either gender or occupation and recommend appropriate app. But is this accurate? Well, it's never accurate but it must be close to accurate. If gender and occupation are both combined as predictor variables to recommend the app we can get better results. \n",
    "\n",
    "\n",
    "![App](App.png)\n",
    "\n",
    "\n",
    "Another example is of student admissions based on their test scores and grades. Below we can depict that the data is well classified by a vertical line at test score 5 and further classification through grades will provide more accurate outcomes of whether a student should be accepted or rejected based on two variables mentioned above.\n",
    "\n",
    "![add](add.png)\n",
    "\n",
    "\n",
    "## Entropy:\n",
    "\n",
    "In physics, entropy is defined as the amount of randomness, or amount of freedom the atoms have to move in its current state. So any gas has the highest entropy in all states of matter. This can be co-related with the amount of probability in statistics. The more the probability of an event to occur the more entropy of that state.\n",
    "\n",
    "Entropy formula is given in terms of average of logarithm addition of the probabilites of events to occur for a given situation. This might be confusing to understand at first. Now, consider an example of probablity of winning in a game where we have to pick the same combination of balls available in the bucket. See below:\n",
    "\n",
    "![ballGame](ballGame.png)\n",
    "\n",
    "\n",
    "Here, the probabality of winning a game in each bucket is the product of the all the probabilities of picking a ball of each colour out of total number of balls. \n",
    "\n",
    "![log1](log1.png)\n",
    "\n",
    "The log values returned are negative, hence negative of log is taken so that we the get entropy to be positive. This can be generalized by a formula given below where m and n are number of variables.\n"
   ]
  },
  {
   "cell_type": "markdown",
   "id": "bdb66f8c",
   "metadata": {},
   "source": [
    "$Entropy = -\\left(\\frac{m}{m+n}\\right) log_2\\left(\\frac{m}{m+n}\\right) - \\left(\\frac{n}{m+n}\\right) log_2\\left(\\frac{n}{m+n}\\right)$"
   ]
  },
  {
   "cell_type": "markdown",
   "id": "d88e87ff",
   "metadata": {},
   "source": [
    "![formula](formula.png)\n",
    "\n",
    "\n",
    "### Problem Statement 1:\n",
    "\n",
    "What is the entropy for a bucket with a ratio of four red balls to ten blue balls? Input your answer to at least three decimal places."
   ]
  },
  {
   "cell_type": "code",
   "execution_count": 11,
   "id": "22284b42",
   "metadata": {},
   "outputs": [
    {
     "name": "stdout",
     "output_type": "stream",
     "text": [
      "Entropy value is 0.863\n"
     ]
    }
   ],
   "source": [
    "import math # This will import math module\n",
    "# assign values of m and n\n",
    "m, n = 4, 10\n",
    "\n",
    "entropy = -(m/(m+n)) *math.log2(m/(m+n)) -(n/(m+n)) *math.log2(n/(m+n)) \n",
    "print(\"Entropy value is {:0.3f}\".format(entropy))"
   ]
  },
  {
   "cell_type": "markdown",
   "id": "405d7769",
   "metadata": {},
   "source": [
    "Above entropy equation can be more generalized for multi class case as:"
   ]
  },
  {
   "cell_type": "markdown",
   "id": "b6d493bd",
   "metadata": {},
   "source": [
    "\n",
    "$Entropy = -p_1 log_2(p_n) - p_2 log_2(p_2) - ....  - \\sum \\limits _{i=1} ^{n}p_n log_2(p_n)$"
   ]
  },
  {
   "cell_type": "markdown",
   "id": "71a36289",
   "metadata": {},
   "source": [
    "### Problem Statement 2:\n",
    "\n",
    "If we have a bucket with eight red balls, three blue balls, and two yellow balls, what is the entropy of the set of balls? Input your answer to at least three decimal places."
   ]
  },
  {
   "cell_type": "code",
   "execution_count": 4,
   "id": "5eeec928",
   "metadata": {},
   "outputs": [
    {
     "name": "stdout",
     "output_type": "stream",
     "text": [
      "Entropy value is 1.335\n"
     ]
    }
   ],
   "source": [
    "# create a list of items\n",
    "li = [8,3,2]\n",
    "entropy=0\n",
    "for i in range(len(li)):\n",
    "    entropy = entropy -(li[i]/sum(li) *math.log2(li[i]/sum(li)))\n",
    "    \n",
    "print(\"Entropy value is {:0.3f}\".format(entropy))"
   ]
  },
  {
   "cell_type": "markdown",
   "id": "91c52a9d",
   "metadata": {},
   "source": [
    "### Information Gain:\n",
    "\n",
    "Information gain is the amount of change in entropy. Well, initially the model is unorganized, when we perform different algorithms or make a decision tree the entropy of each node will keep changing. So the information gain will be the difference between entropy of parent and average entropy of its child. Information gain ranges from 0 to 1. Information gain 1 means the tree is having the best split of data while 0 means the worst split of data.\n",
    "\n",
    "![info](info.png)\n",
    "\n",
    "The idea is to generate or increase the information gain in a decision tree ultimately giving us the more justified split. Let's consider an earlier example of app recommendation to prove this.\n",
    "\n",
    "![MaxInfo](MaxInfo.png)"
   ]
  },
  {
   "cell_type": "code",
   "execution_count": 8,
   "id": "e69f1f3b",
   "metadata": {},
   "outputs": [
    {
     "name": "stdout",
     "output_type": "stream",
     "text": [
      "Parent Entropy value is 1.46\n",
      "Child Entropy value of Female is 0.92\n",
      "Child Entropy value of Male is 0.92\n",
      "Information gain is : 0.54 \n",
      "\n",
      "Our aim is to get closer to information gain of 1 so will split the data now with occupation\n",
      "\n",
      "Parent Entropy value is 1.46\n",
      "Child Entropy value of Study is 0.00\n",
      "Child Entropy value of Work is 0.92\n",
      "Information gain is : 1.00 \n",
      "\n",
      "So we can see that splitting data with occupation we get information gain of 1 which is what we would like as\n",
      "it splits the data perfectly.\n"
     ]
    }
   ],
   "source": [
    "# we will make a fun that will calculate entropy for us\n",
    "def entropyCalc(li):\n",
    "    entropy=0\n",
    "    for i in range(len(li)):\n",
    "        entropy = entropy -(li[i]/sum(li) *math.log2(li[i]/sum(li)))\n",
    "    return round(entropy,2)\n",
    "\n",
    "# Supply a list of items, 3 for Pokeom, 2 for whatsapp and 1 for snapchat\n",
    "\n",
    "entropy_parent = entropyCalc([3,2,1])   \n",
    "print(\"Parent Entropy value is {:0.2f}\".format(entropy_parent))\n",
    "\n",
    "#now we will split the data by gender, that is F and M. \n",
    "#child entropy for Female \n",
    "#we will have 2 whatspp and 1 pokemon among female users\n",
    "\n",
    "entropy_child_F = entropyCalc([2,1])  \n",
    "print(\"Child Entropy value of Female is {:0.2f}\".format(entropy_child_F))\n",
    "\n",
    "#Similary child entropy for Male\n",
    "#we will have 2 Pokemon and 1 Whatsapp among male users\n",
    "\n",
    "entropy_child_M = entropyCalc([2,1]) \n",
    "print(\"Child Entropy value of Male is {:0.2f}\".format(entropy_child_M))\n",
    "print(\"Information gain is : {:0.2f} \\n\".format(entropy_parent-(entropy_child_F+entropy_child_M)/2)) \n",
    "\n",
    "print(\"Our aim is to get closer to information gain of 1 so will split the data now with occupation\\n\")\n",
    "\n",
    "# In occupation we have work and study as classifiers\n",
    "# for Study we only have Pokemon with 3 users, hence\n",
    "print(\"Parent Entropy value is {:0.2f}\".format(entropy_parent))\n",
    "entropy_child_S = entropyCalc([3]) \n",
    "print(\"Child Entropy value of Study is {:0.2f}\".format(entropy_child_S))\n",
    "\n",
    "# for Study we only have Pokemon with 2 whatsapp and 1 snapchat users, hence\n",
    "\n",
    "entropy_child_W = entropyCalc([2,1]) \n",
    "print(\"Child Entropy value of Work is {:0.2f}\".format(entropy_child_W))\n",
    "print(\"Information gain is : {:0.2f} \\n\".format(entropy_parent-(entropy_child_S+entropy_child_W)/2)) \n",
    "\n",
    "print(\"So we can see that splitting data with occupation we get information gain of 1 which is what we would like as\\nit splits the data perfectly.\")\n",
    "\n"
   ]
  },
  {
   "cell_type": "markdown",
   "id": "8bf9cf28",
   "metadata": {},
   "source": [
    "However, we can still classify this further based on gender and get better results. So use information gain to determine which variable can be use to split the data and step by step develop the decision tree model.\n",
    "\n",
    "![finalGain](finalGain.png)\n",
    "\n",
    "### Problem Statement 3:\n",
    "\n",
    "For the following quiz, consider the data found in this file, consisting of twenty-four made-up insects measured on their length and color.\n",
    "\n",
    "Which of the following splitting criteria provides the most information gain for discriminating Mobugs from Lobugs?\n",
    "\n"
   ]
  },
  {
   "cell_type": "code",
   "execution_count": 9,
   "id": "62014f8b",
   "metadata": {},
   "outputs": [
    {
     "name": "stdout",
     "output_type": "stream",
     "text": [
      "Calculating parent entropy of Species first which is our classification variable\n",
      "\n",
      "Parent Entropy value is 0.98000\n",
      "Child Entropy value is 1.00000 and 0.74000\n",
      "Information gain is : 0.11000 \n",
      "\n"
     ]
    }
   ],
   "source": [
    "import pandas as pd\n",
    "import matplotlib.pyplot as plt\n",
    "\n",
    "df = pd.read_csv(r'C:\\Everything On This PC\\Udacity\\Intro to ML -TensorFlow\\Decision Trees\\ml-bugs.csv')\n",
    "# get data of colors from dataframe\n",
    "brown,blue,green =0,0,0\n",
    "for data in df['Color']:\n",
    "    if data=='Brown':\n",
    "        brown+=1\n",
    "    elif data=='Blue':\n",
    "        blue+=1\n",
    "    else:\n",
    "        green+=1\n",
    "        \n",
    "#get the amount of Mobug and Lobug from dataframe\n",
    "mobug, lobug =0,0\n",
    "for data in df['Species']:\n",
    "    if data == 'Mobug':\n",
    "        mobug+=1\n",
    "    else:\n",
    "        lobug+=1 \n",
    "mobug_L1,mobug_L2=0,0\n",
    "lobug_L1,lobug_L2=0,0\n",
    "for i in range(len(df['Color'])):\n",
    "    if df['Length (mm)'][i] <17 and df['Species'][i] == \"Mobug\":\n",
    "        mobug_L1 +=1\n",
    "    elif df['Length (mm)'][i] >17 and df['Species'][i] == \"Mobug\":\n",
    "        mobug_L2 +=1\n",
    "    elif df['Length (mm)'][i] <17 and df['Species'][i] == \"Lobug\":\n",
    "        mobug_L1 +=1\n",
    "    elif df['Length (mm)'][i] >17 and df['Species'][i] == \"Lobug\":\n",
    "        lobug_L2 +=1\n",
    "\n",
    "print(\"Calculating parent entropy of Species first which is our classification variable\\n\")\n",
    "entropy_parent = entropyCalc([mobug,lobug])\n",
    "entropy_child_L1 = entropyCalc([mobug_L1,lobug_L1+mobug_L1])\n",
    "entropy_child_L2 = entropyCalc([mobug_L2,lobug_L2+mobug_L2])\n",
    "print(\"Parent Entropy value is {:0.5f}\\nChild Entropy value is {:0.5f} and {:0.5f}\".format(entropy_parent,entropy_child_L1,entropy_child_L2 ))\n",
    "\n",
    "print(\"Information gain is : {:0.5f} \\n\".format(entropy_parent-(entropy_child_L1+entropy_child_L2)/2))\n"
   ]
  },
  {
   "cell_type": "markdown",
   "id": "627220e4",
   "metadata": {},
   "source": [
    "## Hyperparameters for Decision Tree:\n",
    "\n",
    "There are few parameters in Decision Tree modeling which will help make the model generalize to different problems and useful for optimized classification. \n",
    "\n",
    "### Maximum Depth\n",
    "Depth is the length of each branch and the largest possible length in a tree is the maximum depth. For a depth of k there will be $2^k$ leaves.\n",
    "\n",
    "![maxDepth](maxDepth.png)\n",
    "\n",
    "### Minimum Number of Samples to Split\n",
    "There must be enough samples in the last node to split it into a new branch. Consider a case where minimum number of samples to split is 11.\n",
    "\n",
    "![split](split.png)\n",
    "\n",
    "\n",
    "### Minimum Number of samples per Leaf\n",
    "\n",
    "There could be scenarios where the last split might have samples, say 25, while the other node having 2 samples. In this case we cannot further carry the splitting with the node having 2 samples and it will not result in good classification. With minimum number of samples per leaf, we can make sure that each node will have enough samples to make sense of data. The aim is to not have extremely large difference in samples of two leafs.  \n",
    "\n",
    "![leaf](leaf.png)\n",
    "\n",
    "### Problem Statement 4:\n",
    "\n",
    "In this quiz, you'll be given the following sample dataset, and your goal is to define a model that gives 100% accuracy on it.\n",
    "\n",
    "The data file can be found under the \"data.csv\" tab in the quiz below. It includes three columns, the first 2 comprising of the coordinates of the points, and the third one of the label.\n",
    "\n",
    "The data will be loaded for you, and split into features X and labels y.\n",
    "You'll need to complete each of the following steps:\n",
    "\n",
    "**1. Build a decision tree model**\n",
    "\n",
    "Create a decision tree classification model using scikit-learn's DecisionTreeClassifier and assign it to the variablemodel.\n",
    "\n",
    "**2. Fit the model to the data**\n",
    "\n",
    "You won't need to specify any of the hyperparameters, since the default ones will yield a model that perfectly classifies the training data. However, we encourage you to play with hyperparameters such as max_depth and min_samples_leaf to try to find the simplest possible model.\n",
    "\n",
    "**3. Predict using the model**\n",
    "\n",
    "Predict the labels for the training set, and assign this list to the variable y_pred.\n",
    "\n",
    "**4. Calculate the accuracy of the model**\n",
    "\n",
    "For this, use the function sklearn function accuracy_score. A model's accuracy is the fraction of all data points that it correctly classified.\n",
    "\n",
    "When you hit Test Run, you'll be able to see the boundary region of your model, which will help you tune the correct parameters, in case you need them.\n",
    "\n",
    "Note: This quiz requires you to find an accuracy of 100% on the training set. This is like memorizing the training data! A model designed to have 100% accuracy on training data is unlikely to generalize well to new data. If you pick very large values for your parameters, the model will fit the training set very well, but may not generalize well. Try to find the smallest possible parameters that do the job—then the model will be more likely to generalize well. (This aspect of the exercise won't be graded.)"
   ]
  },
  {
   "cell_type": "code",
   "execution_count": 10,
   "id": "1be9f2ee",
   "metadata": {},
   "outputs": [
    {
     "name": "stdout",
     "output_type": "stream",
     "text": [
      "Accuracy is : 1.0\n"
     ]
    },
    {
     "data": {
      "image/png": "[encoded data removed]",
      "text/plain": [
       "<Figure size 432x288 with 1 Axes>"
      ]
     },
     "metadata": {
      "needs_background": "light"
     },
     "output_type": "display_data"
    }
   ],
   "source": [
    "# Import statements \n",
    "from sklearn.tree import DecisionTreeClassifier\n",
    "from sklearn.metrics import accuracy_score\n",
    "import pandas as pd\n",
    "import numpy as np\n",
    "import matplotlib.pyplot as plt\n",
    "%matplotlib inline\n",
    "\n",
    "# Read the data.\n",
    "data = np.asarray(pd.read_csv(r'C:\\Everything On This PC\\Udacity\\Intro to ML -TensorFlow\\Decision Trees\\data.csv', header=None))\n",
    "# Assign the features to the variable X, and the labels to the variable y. \n",
    "X = data[:,:2]\n",
    "y = data[:,2]\n",
    "\n",
    "\n",
    "# TODO: Create the decision tree model and assign it to the variable model.\n",
    "# You won't need to, but if you'd like, play with hyperparameters such\n",
    "# as max_depth and min_samples_leaf and see what they do to the decision\n",
    "# boundary.\n",
    "model = DecisionTreeClassifier()\n",
    "\n",
    "# TODO: Fit the model.\n",
    "\n",
    "model.fit(X,y)\n",
    "\n",
    "# TODO: Make predictions. Store them in the variable y_pred.\n",
    "y_pred = model.predict(X)\n",
    "\n",
    "# TODO: Calculate the accuracy and assign it to the variable acc.\n",
    "acc = accuracy_score(y,y_pred)\n",
    "\n",
    "print(\"Accuracy is : {}\".format(acc))\n",
    "\n",
    "for i in range(len(X)):\n",
    "    if y[i] == 0:\n",
    "        plt.scatter(X[i][0],X[i][1],color='b')\n",
    "        \n",
    "    else:\n",
    "        plt.scatter(X[i][0],X[i][1],color='r')\n",
    "        \n",
    "\n"
   ]
  },
  {
   "cell_type": "markdown",
   "id": "719352f7",
   "metadata": {},
   "source": [
    "## Case Study on Titanic Survival Model with Decision Trees:\n",
    "\n",
    "The case study on titanic survival model with decision trees have been done in a seprate notebook. This can be found on my github profile. The main goal here was to bring the test accuracy above 85%. This was acheieved by hyperparameters of Decision tree model. The accuracy achieved is 86.03%.\n",
    "\n",
    "\n",
    "A snippet of last solution that was implemented to find the best hyperparamters values is shown below:\n",
    "\n",
    "![titanic](titanic.png)\n",
    "\n",
    "\n",
    "# Resources:\n",
    "---\n",
    "Udacity.com. 2022. Machine Learning with TensorFlow | Intro to TensorFlow. [online] Available at: <https://www.udacity.com/course/intro-to-machine-learning-with-tensorflow-nanodegree--nd230> [Accessed 28 January 2022].\n",
    "\n",
    "---\n",
    "\n",
    "\n",
    "\n",
    " "
   ]
  },
  {
   "cell_type": "code",
   "execution_count": null,
   "id": "fb05f6af",
   "metadata": {},
   "outputs": [],
   "source": []
  },
  {
   "cell_type": "code",
   "execution_count": null,
   "id": "e3373286",
   "metadata": {},
   "outputs": [],
   "source": []
  }
 ],
 "metadata": {
  "kernelspec": {
   "display_name": "Python 3 (ipykernel)",
   "language": "python",
   "name": "python3"
  },
  "language_info": {
   "codemirror_mode": {
    "name": "ipython",
    "version": 3
   },
   "file_extension": ".py",
   "mimetype": "text/x-python",
   "name": "python",
   "nbconvert_exporter": "python",
   "pygments_lexer": "ipython3",
   "version": "3.9.7"
  }
 },
 "nbformat": 4,
 "nbformat_minor": 5
}
